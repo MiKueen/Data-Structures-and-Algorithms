{
 "cells": [
  {
   "cell_type": "markdown",
   "metadata": {},
   "source": [
    "### direct implementation"
   ]
  },
  {
   "cell_type": "code",
   "execution_count": 21,
   "metadata": {},
   "outputs": [
    {
     "name": "stdout",
     "output_type": "stream",
     "text": [
      "Enter max size of queue6\n",
      "no of elements u wanna insert now 2\n",
      "2\n",
      "4\n",
      "Queue Before [2, 4]\n",
      "Enter element to be inserted 6\n",
      "2\n",
      "Queue after\n",
      "2 4 "
     ]
    }
   ],
   "source": [
    "front=-1\n",
    "rear=-1\n",
    "def dequeue(q,size,front):\n",
    "    if(front==rear):\n",
    "        return \"Underflow, queue empty\"\n",
    "    else:\n",
    "        front+=1\n",
    "        \n",
    "def enqueue(q,size,rear,ele):\n",
    "    if(size-1==rear):\n",
    "        return \"Overflow\"\n",
    "    else:\n",
    "        q.append(ele)\n",
    "        rear+=1\n",
    "        \n",
    "def printf(q):\n",
    "    for i in range(front,rear+1):\n",
    "        print(q[i],end=\" \")\n",
    "q=[]\n",
    "\n",
    "size=int(input(\"Enter max size of queue\"))\n",
    "n=int(input(\"no of elements u wanna insert now \"))\n",
    "for i in range(n):\n",
    "    x=int(input())\n",
    "    q.append(x)\n",
    "print(\"Queue Before\",q)\n",
    "ele=int(input(\"Enter element to be inserted \"))\n",
    "print(len(q))\n",
    "if(len(q)==0):\n",
    "    front=-1\n",
    "    rear=-1\n",
    "else:\n",
    "    front=0\n",
    "    rear=len(q)-1\n",
    "dequeue(q,size,front)\n",
    "enqueue(q,size,rear,ele)\n",
    "print(\"Queue after\")\n",
    "printf(q)"
   ]
  },
  {
   "cell_type": "markdown",
   "metadata": {},
   "source": [
    "### implementing through classes"
   ]
  },
  {
   "cell_type": "code",
   "execution_count": 4,
   "metadata": {},
   "outputs": [
    {
     "name": "stdout",
     "output_type": "stream",
     "text": [
      "[30, 40, 50]\n",
      "30\n"
     ]
    }
   ],
   "source": [
    "class Queue:\n",
    "    def __init__(self,q):\n",
    "        self.q=q\n",
    "        \n",
    "    def enqueue(self,ele):\n",
    "        self.q.append(ele)\n",
    "        \n",
    "    def dequeue(self):\n",
    "        self.q.pop(0)\n",
    "    \n",
    "    def peek(self):\n",
    "        return q[0]\n",
    "    \n",
    "    def display(self):\n",
    "        return q\n",
    "    \n",
    "q=[]\n",
    "o=Queue(q)\n",
    "o.enqueue(10)\n",
    "o.enqueue(20)\n",
    "o.enqueue(30)\n",
    "o.enqueue(40)\n",
    "o.enqueue(50)\n",
    "o.dequeue()\n",
    "o.dequeue()\n",
    "print(o.display())\n",
    "print(o.peek())\n",
    "\n",
    "    \n",
    "    "
   ]
  },
  {
   "cell_type": "markdown",
   "metadata": {},
   "source": [
    "### through Collections.deque() class"
   ]
  },
  {
   "cell_type": "code",
   "execution_count": 12,
   "metadata": {},
   "outputs": [
    {
     "data": {
      "text/plain": [
       "deque([20, 30, 40])"
      ]
     },
     "execution_count": 12,
     "metadata": {},
     "output_type": "execute_result"
    }
   ],
   "source": [
    "from collections import deque\n",
    "q=deque()\n",
    "q.append(10)\n",
    "q.append(20)\n",
    "q.append(30)\n",
    "q.append(40)\n",
    "q.append(50)\n",
    "q.popleft()       #removes element from left\n",
    "q.pop()           #removes from right\n",
    "q"
   ]
  },
  {
   "cell_type": "code",
   "execution_count": null,
   "metadata": {},
   "outputs": [],
   "source": []
  },
  {
   "cell_type": "code",
   "execution_count": null,
   "metadata": {},
   "outputs": [],
   "source": []
  }
 ],
 "metadata": {
  "kernelspec": {
   "display_name": "Python 3",
   "language": "python",
   "name": "python3"
  },
  "language_info": {
   "codemirror_mode": {
    "name": "ipython",
    "version": 3
   },
   "file_extension": ".py",
   "mimetype": "text/x-python",
   "name": "python",
   "nbconvert_exporter": "python",
   "pygments_lexer": "ipython3",
   "version": "3.7.3"
  }
 },
 "nbformat": 4,
 "nbformat_minor": 2
}
