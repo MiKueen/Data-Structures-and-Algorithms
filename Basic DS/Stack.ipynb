{
 "cells": [
  {
   "cell_type": "markdown",
   "metadata": {},
   "source": [
    "## Stack"
   ]
  },
  {
   "cell_type": "code",
   "execution_count": 4,
   "metadata": {},
   "outputs": [
    {
     "name": "stdout",
     "output_type": "stream",
     "text": [
      "10\n",
      "1 2 3 4 5\n",
      "Enter element to be inserted 6\n"
     ]
    }
   ],
   "source": [
    "#Stack implementation using lists\n",
    "def push(l,size,ele):\n",
    "    global top\n",
    "    if(top==size-1):\n",
    "        return \"Stack is Full !!\"       #Stack overflow\n",
    "    else:\n",
    "        top+=1\n",
    "        l[top]=ele\n",
    "\n",
    "def pop(l,size):\n",
    "    global top\n",
    "    if(top==-1):\n",
    "        return \"stack is empty \"      #stack underflow        \n",
    "    else:\n",
    "        top=top-1\n",
    "\n",
    "size=int(input())\n",
    "l=list(map(int,input().split()))\n",
    "top=len(l)-1\n",
    "ele=int(input(\"Enter element to be inserted \"))\n",
    "pop(l,size)\n",
    "push(l,size,ele)\n",
    "#pop(l,size)"
   ]
  },
  {
   "cell_type": "code",
   "execution_count": 5,
   "metadata": {},
   "outputs": [
    {
     "data": {
      "text/plain": [
       "[1, 2, 3, 4, 6]"
      ]
     },
     "execution_count": 5,
     "metadata": {},
     "output_type": "execute_result"
    }
   ],
   "source": [
    "l"
   ]
  },
  {
   "cell_type": "markdown",
   "metadata": {},
   "source": []
  },
  {
   "cell_type": "markdown",
   "metadata": {},
   "source": [
    "### through classes"
   ]
  },
  {
   "cell_type": "code",
   "execution_count": 2,
   "metadata": {},
   "outputs": [
    {
     "data": {
      "text/plain": [
       "[10, 20, 30]"
      ]
     },
     "execution_count": 2,
     "metadata": {},
     "output_type": "execute_result"
    }
   ],
   "source": [
    "class Stack:\n",
    "    def __init__(self,s):\n",
    "        self.s=s\n",
    "        \n",
    "    def push(self,ele):\n",
    "        self.s.append(ele)\n",
    "        \n",
    "    def pop(self):\n",
    "        self.s.pop()\n",
    "        \n",
    "    def display(self):\n",
    "        return s\n",
    "    \n",
    "s=[]\n",
    "obj=Stack(s)\n",
    "obj.push(10)\n",
    "obj.push(20)\n",
    "obj.push(30)\n",
    "obj.push(40)\n",
    "obj.pop()\n",
    "obj.display()"
   ]
  },
  {
   "cell_type": "markdown",
   "metadata": {},
   "source": [
    "### Implementing through Linked list"
   ]
  },
  {
   "cell_type": "code",
   "execution_count": 2,
   "metadata": {},
   "outputs": [
    {
     "name": "stdout",
     "output_type": "stream",
     "text": [
      "30 20 10 "
     ]
    }
   ],
   "source": [
    "class Node:\n",
    "    def __init__(self,data):\n",
    "        self.data=data\n",
    "        self.next=None\n",
    "\n",
    "class Linkedlist():\n",
    "    def __init__(self):\n",
    "        self.head=None\n",
    "\n",
    "    def insert(self,new_data):\n",
    "        new_node=Node(new_data)\n",
    "        new_node.next=self.head\n",
    "        self.head=new_node\n",
    "\n",
    "    def delete(self):\n",
    "        if(self.head!=None):\n",
    "            self.head=self.head.next\n",
    "        else:\n",
    "            print(\"No element to delete from this\")\n",
    "\n",
    "    def display(self):\n",
    "        temp=self.head\n",
    "        while(temp):\n",
    "            print(temp.data,end=\" \")\n",
    "            temp=temp.next\n",
    "\n",
    "obj=Linkedlist()\n",
    "obj.insert(10)\n",
    "obj.insert(20)\n",
    "obj.insert(30)\n",
    "obj.display()"
   ]
  },
  {
   "cell_type": "code",
   "execution_count": null,
   "metadata": {},
   "outputs": [],
   "source": []
  }
 ],
 "metadata": {
  "kernelspec": {
   "display_name": "Python 3",
   "language": "python",
   "name": "python3"
  },
  "language_info": {
   "codemirror_mode": {
    "name": "ipython",
    "version": 3
   },
   "file_extension": ".py",
   "mimetype": "text/x-python",
   "name": "python",
   "nbconvert_exporter": "python",
   "pygments_lexer": "ipython3",
   "version": "3.7.3"
  }
 },
 "nbformat": 4,
 "nbformat_minor": 2
}
