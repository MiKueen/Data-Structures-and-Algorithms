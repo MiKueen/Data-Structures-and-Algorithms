{
 "cells": [
  {
   "cell_type": "markdown",
   "metadata": {},
   "source": [
    "## Linked List\n",
    "### 1. Insertion\n",
    "  at beg,\n",
    "  at end,\n",
    "  at desired pos\n",
    "### 2. Count \n",
    "element Count\n",
    "### 3. element Search\n",
    "searches the list \n",
    "### 4. Deletion\n",
    "   from the beg,\n",
    "   from the end, \n",
    "   from the desired pos"
   ]
  },
  {
   "cell_type": "markdown",
   "metadata": {},
   "source": [
    "### This Linked list implementation - \n",
    "\n",
    "### makes the most recent node as head (Stack implementation using Linked List) "
   ]
  },
  {
   "cell_type": "code",
   "execution_count": 1,
   "metadata": {},
   "outputs": [
    {
     "name": "stdout",
     "output_type": "stream",
     "text": [
      "30 20 10 "
     ]
    }
   ],
   "source": [
    "class Node:\n",
    "    def __init__(self,data):\n",
    "        self.data=data\n",
    "        self.next=None\n",
    "\n",
    "class Linkedlist():\n",
    "    def __init__(self):\n",
    "        self.head=None\n",
    "\n",
    "    def insert(self,new_data):\n",
    "        new_node=Node(new_data)\n",
    "        new_node.next=self.head\n",
    "        self.head=new_node\n",
    "        \n",
    "    def delete(self):\n",
    "        if(self.head!=None):\n",
    "            self.head=self.head.next\n",
    "        else:\n",
    "            print(\"No element to delete from this\")\n",
    "\n",
    "    def display(self):\n",
    "        temp=self.head\n",
    "        while(temp):\n",
    "            print(temp.data,end=\" \")\n",
    "            temp=temp.next\n",
    "\n",
    "obj=Linkedlist()\n",
    "obj.insert(10)\n",
    "obj.insert(20)\n",
    "obj.insert(30)\n",
    "obj.display()"
   ]
  },
  {
   "cell_type": "code",
   "execution_count": 2,
   "metadata": {},
   "outputs": [],
   "source": [
    "obj.delete()"
   ]
  },
  {
   "cell_type": "code",
   "execution_count": 3,
   "metadata": {},
   "outputs": [
    {
     "name": "stdout",
     "output_type": "stream",
     "text": [
      "20 10 "
     ]
    }
   ],
   "source": [
    "obj.display()"
   ]
  },
  {
   "cell_type": "code",
   "execution_count": 4,
   "metadata": {},
   "outputs": [],
   "source": [
    "obj.delete()"
   ]
  },
  {
   "cell_type": "code",
   "execution_count": 5,
   "metadata": {},
   "outputs": [
    {
     "name": "stdout",
     "output_type": "stream",
     "text": [
      "10 "
     ]
    }
   ],
   "source": [
    "obj.display()"
   ]
  },
  {
   "cell_type": "code",
   "execution_count": 6,
   "metadata": {},
   "outputs": [],
   "source": [
    "obj.delete()"
   ]
  },
  {
   "cell_type": "code",
   "execution_count": 7,
   "metadata": {},
   "outputs": [],
   "source": [
    "obj.display()"
   ]
  },
  {
   "cell_type": "markdown",
   "metadata": {},
   "source": [
    "### Insertion at the end and at desired pos"
   ]
  },
  {
   "cell_type": "code",
   "execution_count": 18,
   "metadata": {},
   "outputs": [
    {
     "name": "stdout",
     "output_type": "stream",
     "text": [
      "1 3 7 9 \n",
      "1 3 5 7 9 "
     ]
    },
    {
     "data": {
      "text/plain": [
       "5"
      ]
     },
     "execution_count": 18,
     "metadata": {},
     "output_type": "execute_result"
    }
   ],
   "source": [
    "class Node:\n",
    "    def __init__(self,data):\n",
    "        self.data=data\n",
    "        self.next=None\n",
    "\n",
    "class Linkedlist():\n",
    "    def __init__(self):\n",
    "        self.head=None\n",
    "        \n",
    "    def insert_at_beg(self,new_data):\n",
    "        new_node=Node(new_data)\n",
    "        new_node.next=self.head\n",
    "        self.head=new_node\n",
    "\n",
    "    def insert_at_end(self,new_data):\n",
    "        new_node=Node(new_data)\n",
    "        if(self.head is None):\n",
    "            self.head=new_node\n",
    "            return \n",
    "        n=self.head\n",
    "        while(n.next != None):\n",
    "            n=n.next\n",
    "        n.next=new_node\n",
    "        \n",
    "    #Insertion at desired position\n",
    "    \n",
    "    def insert_at_pos(self,pos,new_data):\n",
    "        if pos==1:\n",
    "            new_node=Node(new_data)\n",
    "            new_node.next=self.head\n",
    "            self.head=new_node\n",
    "        \n",
    "        i=1\n",
    "        n=self.head\n",
    "        while(i<pos-1 and n != None):\n",
    "            n=n.next\n",
    "            i+=1\n",
    "        \n",
    "        if (n == None):\n",
    "            print(\"Index out of Bound\")\n",
    "        else:\n",
    "            new_node=Node(new_data)\n",
    "            new_node.next=n.next\n",
    "            n.next=new_node \n",
    "\n",
    "    def count(self):\n",
    "        if(self.head == None):\n",
    "            return 0\n",
    "        else:\n",
    "            count=0\n",
    "            n=self.head\n",
    "            while(n != None):\n",
    "                count+=1\n",
    "                n=n.next\n",
    "        return count\n",
    "    \n",
    "    def search(self,x):\n",
    "        if(self.head == None):\n",
    "            return \"List is empty\"\n",
    "    \n",
    "        n=self.head\n",
    "        pos=1\n",
    "        while(n != None):\n",
    "            if(n.data == x):\n",
    "                return \"Element found at \"+str(pos)\n",
    "            n=n.next\n",
    "            pos+=1\n",
    "        return \"Element Not Found\"\n",
    "    \n",
    "    def display(self):\n",
    "        temp=self.head\n",
    "        while(temp):\n",
    "            print(temp.data,end=\" \")\n",
    "            temp=temp.next\n",
    "\n",
    "obj=Linkedlist()\n",
    "obj.insert_at_end(1)\n",
    "obj.insert_at_end(3)\n",
    "obj.insert_at_end(7)\n",
    "obj.insert_at_end(9)\n",
    "#obj.insert_at_beg(0)\n",
    "obj.display()\n",
    "print()\n",
    "obj.insert_at_pos(3,5)\n",
    "obj.display()\n",
    "obj.count()"
   ]
  },
  {
   "cell_type": "code",
   "execution_count": 21,
   "metadata": {},
   "outputs": [
    {
     "data": {
      "text/plain": [
       "'Element Not Found'"
      ]
     },
     "execution_count": 21,
     "metadata": {},
     "output_type": "execute_result"
    }
   ],
   "source": [
    "obj.search(5)\n",
    "obj.search(11)"
   ]
  },
  {
   "cell_type": "code",
   "execution_count": null,
   "metadata": {},
   "outputs": [],
   "source": []
  },
  {
   "cell_type": "code",
   "execution_count": null,
   "metadata": {},
   "outputs": [],
   "source": [
    "\n"
   ]
  }
 ],
 "metadata": {
  "kernelspec": {
   "display_name": "Python 3",
   "language": "python",
   "name": "python3"
  },
  "language_info": {
   "codemirror_mode": {
    "name": "ipython",
    "version": 3
   },
   "file_extension": ".py",
   "mimetype": "text/x-python",
   "name": "python",
   "nbconvert_exporter": "python",
   "pygments_lexer": "ipython3",
   "version": "3.7.3"
  }
 },
 "nbformat": 4,
 "nbformat_minor": 2
}
